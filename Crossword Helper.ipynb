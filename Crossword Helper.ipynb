{
 "cells": [
  {
   "cell_type": "markdown",
   "metadata": {},
   "source": [
    "# Regex Crossword Helper\n",
    "\n",
    "This notebook is a supplement for [this post](https://lawyerist.com/?p=136050) (**coming soon**) on regular expressions. Please read that first, as this will make very little sense without this context. If you aren't familiar with notebooks, check out [this peice](https://lawyerist.com/124089/hello-world-attorneys-learn-code/) in which I describe how to download Project Jupyter. After that, what follows should make a little more sense. \n",
    "\n",
    "## Import Dependencies "
   ]
  },
  {
   "cell_type": "code",
   "execution_count": 100,
   "metadata": {
    "collapsed": true
   },
   "outputs": [],
   "source": [
    "import re\n",
    "import urllib.request\n",
    "import sys  "
   ]
  },
  {
   "cell_type": "markdown",
   "metadata": {},
   "source": [
    "## Download a Corpus\n",
    "\n",
    "Here we're going to download a [corpus of English words]((https://github.com/dwyl/english-words)) and save it to disk. We should only have to do this one time. So if you come back to this notebook in the future, you can get away without running the codeblock below. "
   ]
  },
  {
   "cell_type": "code",
   "execution_count": 103,
   "metadata": {
    "collapsed": true
   },
   "outputs": [],
   "source": [
    "corpus_url = \"https://github.com/dwyl/english-words/blob/master/words.txt?raw=true\"\n",
    "corpus_text = urllib.request.build_opener(urllib.request.HTTPCookieProcessor).open(corpus_url).read()\n",
    "corpus = open(\"corpus.txt\", \"wb\")\n",
    "corpus.write(corpus_text)\n",
    "corpus.close()"
   ]
  },
  {
   "cell_type": "markdown",
   "metadata": {},
   "source": [
    "## Load Saved Corpus\n",
    "\n",
    "As you can see by reading out the five lines from the corpus text, individual words can be found on each line (where a line break is represented by `\\n`. "
   ]
  },
  {
   "cell_type": "code",
   "execution_count": 102,
   "metadata": {
    "collapsed": false
   },
   "outputs": [
    {
     "name": "stdout",
     "output_type": "stream",
     "text": [
      "['absonous\\n', 'absorb\\n', 'absorbability\\n', 'absorbable\\n', 'absorbance\\n']\n"
     ]
    }
   ],
   "source": [
    "corpus = open('corpus.txt','r').read()\n",
    "\n",
    "#h/t http://stackoverflow.com/a/20441641\n",
    "with open(\"corpus.txt\") as myfile:\n",
    "    firstNlines=myfile.readlines()[1000:1005] \n",
    "print (firstNlines)"
   ]
  },
  {
   "cell_type": "markdown",
   "metadata": {},
   "source": [
    "## Create a Function to Take in Regex and Spit Out Words"
   ]
  },
  {
   "cell_type": "code",
   "execution_count": 39,
   "metadata": {
    "collapsed": false
   },
   "outputs": [],
   "source": [
    "def regex_word (regex):\n",
    "    test_str = corpus\n",
    "    matches = re.finditer(regex, test_str)\n",
    "    for matchNum, match in enumerate(matches):\n",
    "        matchNum = matchNum + 1\n",
    "        print (\"Match {matchNum}: {match}\".format(matchNum = matchNum, match = match.group()))"
   ]
  },
  {
   "cell_type": "markdown",
   "metadata": {},
   "source": [
    "## Find Your Word(s)\n",
    "\n",
    "Now run `regex_word()` as needed and as described in the [*Build & Solve Crossword Puzzles* section](https://lawyerist.com/?p=136050#crossword) of the accompanying blog post. As you step through word by word, you can create your own crossword one word at a time. See below."
   ]
  },
  {
   "cell_type": "code",
   "execution_count": null,
   "metadata": {
    "collapsed": false
   },
   "outputs": [],
   "source": [
    "regex_word(r\"\\n\\w{2}e\\w{2}e\\w{2}e\\w{2}\\n\")"
   ]
  },
  {
   "cell_type": "markdown",
   "metadata": {},
   "source": [
    "## A Simple Crossword\n",
    "\n",
    "Starting with an 11x11 grid, I constructed the crossword below by repeatedly running `regex_word()` and filling lines in word by word. As I did this, I realized that there was a lot more I could do to automate the process. For example, I could pick matching words at random and have a program create the puzzle from scratch. However, it would probably be a good idea to give preference to more common words and words that are more likely to combine well with others given their location on the grid. So adding some awareness of useage and letter frequency could be useful. Anywho, this was all just a MacGuffin to show off regex. So given that, I'm rather happy with this as a result.\n",
    "\n",
    "![crossword](crossword.png)\n",
    "\n",
    "|Across|Down|\n",
    "|---------|---|\n",
    "|1. Multiple barred confinements.|1. An item sought for its membership in a set of similar objects. |\n",
    "|6. Future birth state of James T. Kirk.|2. Those responsible for entry.|\n",
    "|7. Repeated forceful blows.|3. A neutral state.|\n",
    "|8. A stain of ink.|4. Those who carve wood.|\n",
    "|9. A memorial article.|5. An adjective describing those with strong beliefs.|\n",
    "|10. An adhesive liquid.|\n",
    "|11. An indentation.|\n",
    "|12. Those prophesied to inherit the Earth.|\n",
    "|13. An alternate name for a particle collider.|\n",
    "|14. Payment to a landlord.|\n",
    "|15. A speech impediment and a computer language.|\n",
    "|16. Young lamb.|\n",
    "|17. Possessing the power to do something.|\n",
    "|18. Slang term for food.|\n",
    "|19. A coin of foreign origin.|\n",
    "|20. A structure constructed from the skeletons of underwater animal colonies.|\n",
    "|21. Pollinating insects.|\n",
    "|22. To be treated with a medicine.|\n",
    "\n",
    "If you're stuck, here are the [answers](Answers.txt)."
   ]
  },
  {
   "cell_type": "code",
   "execution_count": null,
   "metadata": {
    "collapsed": true
   },
   "outputs": [],
   "source": []
  }
 ],
 "metadata": {
  "kernelspec": {
   "display_name": "Python 3",
   "language": "python",
   "name": "python3"
  },
  "language_info": {
   "codemirror_mode": {
    "name": "ipython",
    "version": 3
   },
   "file_extension": ".py",
   "mimetype": "text/x-python",
   "name": "python",
   "nbconvert_exporter": "python",
   "pygments_lexer": "ipython3",
   "version": "3.5.2"
  }
 },
 "nbformat": 4,
 "nbformat_minor": 0
}
